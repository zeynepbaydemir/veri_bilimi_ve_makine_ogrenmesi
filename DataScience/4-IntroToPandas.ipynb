{
 "cells": [
  {
   "cell_type": "code",
   "execution_count": 1,
   "id": "e0b78429",
   "metadata": {},
   "outputs": [],
   "source": [
    "import numpy as np"
   ]
  },
  {
   "cell_type": "code",
   "execution_count": 2,
   "id": "c9d4d4c2",
   "metadata": {},
   "outputs": [],
   "source": [
    "import pandas as pd"
   ]
  },
  {
   "cell_type": "code",
   "execution_count": 3,
   "id": "13eee78f",
   "metadata": {},
   "outputs": [],
   "source": [
    "grades = {\"Atil\": 50, \"James\": 60, \"Lars\": 30}"
   ]
  },
  {
   "cell_type": "code",
   "execution_count": 4,
   "id": "b8a57a73",
   "metadata": {},
   "outputs": [
    {
     "data": {
      "text/plain": [
       "Atil     50\n",
       "James    60\n",
       "Lars     30\n",
       "dtype: int64"
      ]
     },
     "execution_count": 4,
     "metadata": {},
     "output_type": "execute_result"
    }
   ],
   "source": [
    "pd.Series(grades)"
   ]
  },
  {
   "cell_type": "code",
   "execution_count": 6,
   "id": "3fdf7d1b",
   "metadata": {},
   "outputs": [],
   "source": [
    "names = [\"Atil\", \"James\", \"Lars\"]\n",
    "grades = [50,60,30]"
   ]
  },
  {
   "cell_type": "code",
   "execution_count": 7,
   "id": "bf613a02",
   "metadata": {},
   "outputs": [
    {
     "data": {
      "text/plain": [
       "0     Atil\n",
       "1    James\n",
       "2     Lars\n",
       "dtype: object"
      ]
     },
     "execution_count": 7,
     "metadata": {},
     "output_type": "execute_result"
    }
   ],
   "source": [
    "pd.Series(names)"
   ]
  },
  {
   "cell_type": "code",
   "execution_count": 8,
   "id": "b55ae744",
   "metadata": {},
   "outputs": [
    {
     "data": {
      "text/plain": [
       "0    50\n",
       "1    60\n",
       "2    30\n",
       "dtype: int64"
      ]
     },
     "execution_count": 8,
     "metadata": {},
     "output_type": "execute_result"
    }
   ],
   "source": [
    "pd.Series(grades)"
   ]
  },
  {
   "cell_type": "code",
   "execution_count": 9,
   "id": "30eb3912",
   "metadata": {},
   "outputs": [
    {
     "data": {
      "text/plain": [
       "Atil     50\n",
       "James    60\n",
       "Lars     30\n",
       "dtype: int64"
      ]
     },
     "execution_count": 9,
     "metadata": {},
     "output_type": "execute_result"
    }
   ],
   "source": [
    "pd.Series(grades,names)"
   ]
  },
  {
   "cell_type": "code",
   "execution_count": 10,
   "id": "9bb39912",
   "metadata": {},
   "outputs": [
    {
     "data": {
      "text/plain": [
       "Atil     50\n",
       "James    60\n",
       "Lars     30\n",
       "dtype: int64"
      ]
     },
     "execution_count": 10,
     "metadata": {},
     "output_type": "execute_result"
    }
   ],
   "source": [
    "pd.Series(data=grades, index=names)"
   ]
  },
  {
   "cell_type": "code",
   "execution_count": 11,
   "id": "943972a8",
   "metadata": {},
   "outputs": [],
   "source": [
    "# with numpy"
   ]
  },
  {
   "cell_type": "code",
   "execution_count": 12,
   "id": "8c4dd6a3",
   "metadata": {},
   "outputs": [],
   "source": [
    "numpy_array = np.array([50,40,30,20])"
   ]
  },
  {
   "cell_type": "code",
   "execution_count": 13,
   "id": "66bed8db",
   "metadata": {},
   "outputs": [
    {
     "data": {
      "text/plain": [
       "0    50\n",
       "1    40\n",
       "2    30\n",
       "3    20\n",
       "dtype: int32"
      ]
     },
     "execution_count": 13,
     "metadata": {},
     "output_type": "execute_result"
    }
   ],
   "source": [
    "pd.Series(numpy_array)"
   ]
  },
  {
   "cell_type": "code",
   "execution_count": 14,
   "id": "a6014650",
   "metadata": {},
   "outputs": [],
   "source": [
    "# arithmetic"
   ]
  },
  {
   "cell_type": "code",
   "execution_count": 15,
   "id": "6d3b14a1",
   "metadata": {},
   "outputs": [],
   "source": [
    "contest_result = pd.Series(data = [10,5,100], index=[\"Atil\",\"James\",\"Lars\"])"
   ]
  },
  {
   "cell_type": "code",
   "execution_count": 22,
   "id": "772960fd",
   "metadata": {},
   "outputs": [],
   "source": [
    "contest_result2 = pd.Series(data = [20,50,10], index=[\"Atil\",\"James\",\"Lars\"])"
   ]
  },
  {
   "cell_type": "code",
   "execution_count": 23,
   "id": "f02a8f56",
   "metadata": {},
   "outputs": [
    {
     "data": {
      "text/plain": [
       "Atil      10\n",
       "James      5\n",
       "Lars     100\n",
       "dtype: int64"
      ]
     },
     "execution_count": 23,
     "metadata": {},
     "output_type": "execute_result"
    }
   ],
   "source": [
    "contest_result"
   ]
  },
  {
   "cell_type": "code",
   "execution_count": 24,
   "id": "d9b1d562",
   "metadata": {},
   "outputs": [
    {
     "data": {
      "text/plain": [
       "10"
      ]
     },
     "execution_count": 24,
     "metadata": {},
     "output_type": "execute_result"
    }
   ],
   "source": [
    "contest_result[\"Atil\"]"
   ]
  },
  {
   "cell_type": "code",
   "execution_count": 25,
   "id": "d7f38709",
   "metadata": {},
   "outputs": [
    {
     "data": {
      "text/plain": [
       "5"
      ]
     },
     "execution_count": 25,
     "metadata": {},
     "output_type": "execute_result"
    }
   ],
   "source": [
    "contest_result[\"James\"]"
   ]
  },
  {
   "cell_type": "code",
   "execution_count": 26,
   "id": "fed037fe",
   "metadata": {},
   "outputs": [],
   "source": [
    "final_result = contest_result + contest_result2"
   ]
  },
  {
   "cell_type": "code",
   "execution_count": 28,
   "id": "959f7b81",
   "metadata": {},
   "outputs": [
    {
     "data": {
      "text/plain": [
       "Atil      30\n",
       "James     55\n",
       "Lars     110\n",
       "dtype: int64"
      ]
     },
     "execution_count": 28,
     "metadata": {},
     "output_type": "execute_result"
    }
   ],
   "source": [
    "final_result"
   ]
  },
  {
   "cell_type": "code",
   "execution_count": 29,
   "id": "4e75f94a",
   "metadata": {},
   "outputs": [
    {
     "data": {
      "text/plain": [
       "Atil    -10\n",
       "James   -45\n",
       "Lars     90\n",
       "dtype: int64"
      ]
     },
     "execution_count": 29,
     "metadata": {},
     "output_type": "execute_result"
    }
   ],
   "source": [
    "contest_result - contest_result2"
   ]
  },
  {
   "cell_type": "code",
   "execution_count": 30,
   "id": "766f9a83",
   "metadata": {},
   "outputs": [
    {
     "data": {
      "text/plain": [
       "Atil      200\n",
       "James     250\n",
       "Lars     1000\n",
       "dtype: int64"
      ]
     },
     "execution_count": 30,
     "metadata": {},
     "output_type": "execute_result"
    }
   ],
   "source": [
    "contest_result * contest_result2"
   ]
  },
  {
   "cell_type": "code",
   "execution_count": 31,
   "id": "c65891b5",
   "metadata": {},
   "outputs": [
    {
     "data": {
      "text/plain": [
       "Atil      0.5\n",
       "James     0.1\n",
       "Lars     10.0\n",
       "dtype: float64"
      ]
     },
     "execution_count": 31,
     "metadata": {},
     "output_type": "execute_result"
    }
   ],
   "source": [
    "contest_result / contest_result2"
   ]
  },
  {
   "cell_type": "code",
   "execution_count": 32,
   "id": "035f26c8",
   "metadata": {},
   "outputs": [],
   "source": [
    "different_series = pd.Series([20,30,40,50],[\"a\",\"b\",\"c\",\"d\"])"
   ]
  },
  {
   "cell_type": "code",
   "execution_count": 33,
   "id": "91bbc8ad",
   "metadata": {},
   "outputs": [
    {
     "data": {
      "text/plain": [
       "a    20\n",
       "b    30\n",
       "c    40\n",
       "d    50\n",
       "dtype: int64"
      ]
     },
     "execution_count": 33,
     "metadata": {},
     "output_type": "execute_result"
    }
   ],
   "source": [
    "different_series"
   ]
  },
  {
   "cell_type": "code",
   "execution_count": 34,
   "id": "0f454c63",
   "metadata": {},
   "outputs": [],
   "source": [
    "different_series2 = pd.Series([10,5,3,1],[\"a\",\"c\",\"f\",\"g\"])"
   ]
  },
  {
   "cell_type": "code",
   "execution_count": 35,
   "id": "f6afac35",
   "metadata": {},
   "outputs": [
    {
     "data": {
      "text/plain": [
       "a    10\n",
       "c     5\n",
       "f     3\n",
       "g     1\n",
       "dtype: int64"
      ]
     },
     "execution_count": 35,
     "metadata": {},
     "output_type": "execute_result"
    }
   ],
   "source": [
    "different_series2"
   ]
  },
  {
   "cell_type": "code",
   "execution_count": 36,
   "id": "bdeb376c",
   "metadata": {},
   "outputs": [
    {
     "data": {
      "text/plain": [
       "a    30.0\n",
       "b     NaN\n",
       "c    45.0\n",
       "d     NaN\n",
       "f     NaN\n",
       "g     NaN\n",
       "dtype: float64"
      ]
     },
     "execution_count": 36,
     "metadata": {},
     "output_type": "execute_result"
    }
   ],
   "source": [
    "different_series + different_series2"
   ]
  },
  {
   "cell_type": "code",
   "execution_count": null,
   "id": "0280b755",
   "metadata": {},
   "outputs": [],
   "source": []
  }
 ],
 "metadata": {
  "kernelspec": {
   "display_name": "Python 3 (ipykernel)",
   "language": "python",
   "name": "python3"
  },
  "language_info": {
   "codemirror_mode": {
    "name": "ipython",
    "version": 3
   },
   "file_extension": ".py",
   "mimetype": "text/x-python",
   "name": "python",
   "nbconvert_exporter": "python",
   "pygments_lexer": "ipython3",
   "version": "3.9.12"
  }
 },
 "nbformat": 4,
 "nbformat_minor": 5
}
