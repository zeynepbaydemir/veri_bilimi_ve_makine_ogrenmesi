{
 "cells": [
  {
   "cell_type": "code",
   "execution_count": 1,
   "id": "ee30015a",
   "metadata": {},
   "outputs": [],
   "source": [
    "import numpy as np"
   ]
  },
  {
   "cell_type": "code",
   "execution_count": 2,
   "id": "b142803c",
   "metadata": {},
   "outputs": [],
   "source": [
    "my_matrix = [[5,10],[15,20]]"
   ]
  },
  {
   "cell_type": "code",
   "execution_count": 3,
   "id": "65944fb6",
   "metadata": {},
   "outputs": [
    {
     "data": {
      "text/plain": [
       "[5, 10]"
      ]
     },
     "execution_count": 3,
     "metadata": {},
     "output_type": "execute_result"
    }
   ],
   "source": [
    "my_matrix[0]"
   ]
  },
  {
   "cell_type": "code",
   "execution_count": 4,
   "id": "8f8a4a6b",
   "metadata": {},
   "outputs": [
    {
     "data": {
      "text/plain": [
       "[15, 20]"
      ]
     },
     "execution_count": 4,
     "metadata": {},
     "output_type": "execute_result"
    }
   ],
   "source": [
    "my_matrix[1]"
   ]
  },
  {
   "cell_type": "code",
   "execution_count": 5,
   "id": "7aeb5052",
   "metadata": {},
   "outputs": [
    {
     "data": {
      "text/plain": [
       "10"
      ]
     },
     "execution_count": 5,
     "metadata": {},
     "output_type": "execute_result"
    }
   ],
   "source": [
    "my_matrix[0][1]"
   ]
  },
  {
   "cell_type": "code",
   "execution_count": 6,
   "id": "494af7c6",
   "metadata": {},
   "outputs": [],
   "source": [
    "# row * column"
   ]
  },
  {
   "cell_type": "code",
   "execution_count": 7,
   "id": "df262a20",
   "metadata": {},
   "outputs": [],
   "source": [
    "numpy_matrix = np.array([[5,10],[15,20]])"
   ]
  },
  {
   "cell_type": "code",
   "execution_count": 8,
   "id": "f604ac1d",
   "metadata": {},
   "outputs": [
    {
     "data": {
      "text/plain": [
       "array([[ 5, 10],\n",
       "       [15, 20]])"
      ]
     },
     "execution_count": 8,
     "metadata": {},
     "output_type": "execute_result"
    }
   ],
   "source": [
    "numpy_matrix"
   ]
  },
  {
   "cell_type": "code",
   "execution_count": 9,
   "id": "70739227",
   "metadata": {},
   "outputs": [
    {
     "data": {
      "text/plain": [
       "15"
      ]
     },
     "execution_count": 9,
     "metadata": {},
     "output_type": "execute_result"
    }
   ],
   "source": [
    "numpy_matrix[1][0]"
   ]
  },
  {
   "cell_type": "code",
   "execution_count": 10,
   "id": "a9f471e5",
   "metadata": {},
   "outputs": [
    {
     "data": {
      "text/plain": [
       "50"
      ]
     },
     "execution_count": 10,
     "metadata": {},
     "output_type": "execute_result"
    }
   ],
   "source": [
    "numpy_matrix.sum()"
   ]
  },
  {
   "cell_type": "code",
   "execution_count": 11,
   "id": "e5119f95",
   "metadata": {},
   "outputs": [
    {
     "data": {
      "text/plain": [
       "array([[1., 1.],\n",
       "       [1., 1.],\n",
       "       [1., 1.],\n",
       "       [1., 1.]])"
      ]
     },
     "execution_count": 11,
     "metadata": {},
     "output_type": "execute_result"
    }
   ],
   "source": [
    "np.ones((4,2))"
   ]
  },
  {
   "cell_type": "code",
   "execution_count": 12,
   "id": "a02bf3dc",
   "metadata": {},
   "outputs": [
    {
     "data": {
      "text/plain": [
       "array([[0., 0., 0.],\n",
       "       [0., 0., 0.],\n",
       "       [0., 0., 0.],\n",
       "       [0., 0., 0.],\n",
       "       [0., 0., 0.]])"
      ]
     },
     "execution_count": 12,
     "metadata": {},
     "output_type": "execute_result"
    }
   ],
   "source": [
    "np.zeros((5,3))"
   ]
  },
  {
   "cell_type": "code",
   "execution_count": 13,
   "id": "3a6e10c1",
   "metadata": {},
   "outputs": [
    {
     "data": {
      "text/plain": [
       "array([[0., 0., 0., 0., 0.],\n",
       "       [0., 0., 0., 0., 0.],\n",
       "       [0., 0., 0., 0., 0.]])"
      ]
     },
     "execution_count": 13,
     "metadata": {},
     "output_type": "execute_result"
    }
   ],
   "source": [
    "np.zeros((3,5))"
   ]
  },
  {
   "cell_type": "code",
   "execution_count": 14,
   "id": "dc2fbaff",
   "metadata": {},
   "outputs": [
    {
     "data": {
      "text/plain": [
       "array([[0.16798959, 0.57679557],\n",
       "       [0.92649835, 0.72529421],\n",
       "       [0.64799579, 0.176546  ]])"
      ]
     },
     "execution_count": 14,
     "metadata": {},
     "output_type": "execute_result"
    }
   ],
   "source": [
    "np.random.random((3,2))"
   ]
  },
  {
   "cell_type": "code",
   "execution_count": 15,
   "id": "88908c19",
   "metadata": {},
   "outputs": [],
   "source": [
    "# matrix arithmetic"
   ]
  },
  {
   "cell_type": "code",
   "execution_count": 16,
   "id": "e5c27b96",
   "metadata": {},
   "outputs": [],
   "source": [
    "first_array = np.array([[10,20],[30,40]])"
   ]
  },
  {
   "cell_type": "code",
   "execution_count": 17,
   "id": "55590def",
   "metadata": {},
   "outputs": [],
   "source": [
    "second_array = np.array([[5,15],[25,35]])"
   ]
  },
  {
   "cell_type": "code",
   "execution_count": 18,
   "id": "bf137c35",
   "metadata": {},
   "outputs": [
    {
     "data": {
      "text/plain": [
       "array([[15, 35],\n",
       "       [55, 75]])"
      ]
     },
     "execution_count": 18,
     "metadata": {},
     "output_type": "execute_result"
    }
   ],
   "source": [
    "first_array + second_array"
   ]
  },
  {
   "cell_type": "code",
   "execution_count": 19,
   "id": "50f98b24",
   "metadata": {},
   "outputs": [
    {
     "data": {
      "text/plain": [
       "array([[10, 20],\n",
       "       [30, 40]])"
      ]
     },
     "execution_count": 19,
     "metadata": {},
     "output_type": "execute_result"
    }
   ],
   "source": [
    "first_array"
   ]
  },
  {
   "cell_type": "code",
   "execution_count": 20,
   "id": "c96bfb07",
   "metadata": {},
   "outputs": [],
   "source": [
    "third_array = np.array([[50,60]])"
   ]
  },
  {
   "cell_type": "code",
   "execution_count": 21,
   "id": "669b0e1d",
   "metadata": {},
   "outputs": [
    {
     "data": {
      "text/plain": [
       "array([[50, 60]])"
      ]
     },
     "execution_count": 21,
     "metadata": {},
     "output_type": "execute_result"
    }
   ],
   "source": [
    "third_array"
   ]
  },
  {
   "cell_type": "code",
   "execution_count": 22,
   "id": "d76dcd4b",
   "metadata": {},
   "outputs": [
    {
     "data": {
      "text/plain": [
       "array([[ 60,  80],\n",
       "       [ 80, 100]])"
      ]
     },
     "execution_count": 22,
     "metadata": {},
     "output_type": "execute_result"
    }
   ],
   "source": [
    "first_array + third_array"
   ]
  },
  {
   "cell_type": "code",
   "execution_count": 23,
   "id": "69cf927b",
   "metadata": {},
   "outputs": [],
   "source": [
    "fourth_array = np.array([[10,20,30,40,50]])"
   ]
  },
  {
   "cell_type": "code",
   "execution_count": 24,
   "id": "ff98874d",
   "metadata": {},
   "outputs": [],
   "source": [
    "#first_array + fourth_array"
   ]
  },
  {
   "cell_type": "code",
   "execution_count": 25,
   "id": "729d8e0f",
   "metadata": {},
   "outputs": [
    {
     "data": {
      "text/plain": [
       "array([[20, 40],\n",
       "       [60, 80]])"
      ]
     },
     "execution_count": 25,
     "metadata": {},
     "output_type": "execute_result"
    }
   ],
   "source": [
    "first_array * 2"
   ]
  },
  {
   "cell_type": "code",
   "execution_count": 26,
   "id": "5f7ff55b",
   "metadata": {},
   "outputs": [
    {
     "data": {
      "text/plain": [
       "array([[ 2.5,  5. ],\n",
       "       [ 7.5, 10. ]])"
      ]
     },
     "execution_count": 26,
     "metadata": {},
     "output_type": "execute_result"
    }
   ],
   "source": [
    "first_array / 4"
   ]
  },
  {
   "cell_type": "code",
   "execution_count": 27,
   "id": "229ac1d8",
   "metadata": {},
   "outputs": [],
   "source": [
    "third_array = np.array([[10],[20]])"
   ]
  },
  {
   "cell_type": "code",
   "execution_count": 28,
   "id": "c0385819",
   "metadata": {},
   "outputs": [
    {
     "data": {
      "text/plain": [
       "array([[10],\n",
       "       [20]])"
      ]
     },
     "execution_count": 28,
     "metadata": {},
     "output_type": "execute_result"
    }
   ],
   "source": [
    "third_array"
   ]
  },
  {
   "cell_type": "code",
   "execution_count": 29,
   "id": "99da53b0",
   "metadata": {},
   "outputs": [
    {
     "data": {
      "text/plain": [
       "(2, 1)"
      ]
     },
     "execution_count": 29,
     "metadata": {},
     "output_type": "execute_result"
    }
   ],
   "source": [
    "third_array.shape"
   ]
  },
  {
   "cell_type": "code",
   "execution_count": 30,
   "id": "031ca4bb",
   "metadata": {},
   "outputs": [
    {
     "data": {
      "text/plain": [
       "(2, 2)"
      ]
     },
     "execution_count": 30,
     "metadata": {},
     "output_type": "execute_result"
    }
   ],
   "source": [
    "first_array.shape"
   ]
  },
  {
   "cell_type": "code",
   "execution_count": 31,
   "id": "c3f55faa",
   "metadata": {},
   "outputs": [
    {
     "data": {
      "text/plain": [
       "array([[20, 30],\n",
       "       [50, 60]])"
      ]
     },
     "execution_count": 31,
     "metadata": {},
     "output_type": "execute_result"
    }
   ],
   "source": [
    "first_array + third_array"
   ]
  },
  {
   "cell_type": "code",
   "execution_count": 32,
   "id": "2074a396",
   "metadata": {},
   "outputs": [
    {
     "data": {
      "text/plain": [
       "array([[10, 20],\n",
       "       [30, 40]])"
      ]
     },
     "execution_count": 32,
     "metadata": {},
     "output_type": "execute_result"
    }
   ],
   "source": [
    "first_array"
   ]
  },
  {
   "cell_type": "code",
   "execution_count": 33,
   "id": "6246e49e",
   "metadata": {},
   "outputs": [],
   "source": [
    "# matrix multiplication"
   ]
  },
  {
   "cell_type": "code",
   "execution_count": 34,
   "id": "75d7bc77",
   "metadata": {},
   "outputs": [
    {
     "data": {
      "text/plain": [
       "array([[10, 20],\n",
       "       [30, 40]])"
      ]
     },
     "execution_count": 34,
     "metadata": {},
     "output_type": "execute_result"
    }
   ],
   "source": [
    "first_array"
   ]
  },
  {
   "cell_type": "code",
   "execution_count": 35,
   "id": "5d0d38d9",
   "metadata": {},
   "outputs": [
    {
     "data": {
      "text/plain": [
       "array([[ 5, 15],\n",
       "       [25, 35]])"
      ]
     },
     "execution_count": 35,
     "metadata": {},
     "output_type": "execute_result"
    }
   ],
   "source": [
    "second_array"
   ]
  },
  {
   "cell_type": "code",
   "execution_count": 36,
   "id": "48630fa2",
   "metadata": {},
   "outputs": [
    {
     "data": {
      "text/plain": [
       "array([[  50,  300],\n",
       "       [ 750, 1400]])"
      ]
     },
     "execution_count": 36,
     "metadata": {},
     "output_type": "execute_result"
    }
   ],
   "source": [
    "first_array * second_array"
   ]
  },
  {
   "cell_type": "code",
   "execution_count": 37,
   "id": "c8679918",
   "metadata": {},
   "outputs": [],
   "source": [
    "first_matrix = np.array([[10,20,30]])"
   ]
  },
  {
   "cell_type": "code",
   "execution_count": 38,
   "id": "cc30e665",
   "metadata": {},
   "outputs": [
    {
     "data": {
      "text/plain": [
       "array([[10, 20, 30]])"
      ]
     },
     "execution_count": 38,
     "metadata": {},
     "output_type": "execute_result"
    }
   ],
   "source": [
    "first_matrix"
   ]
  },
  {
   "cell_type": "code",
   "execution_count": 39,
   "id": "07f6c134",
   "metadata": {},
   "outputs": [
    {
     "data": {
      "text/plain": [
       "(1, 3)"
      ]
     },
     "execution_count": 39,
     "metadata": {},
     "output_type": "execute_result"
    }
   ],
   "source": [
    "first_matrix.shape"
   ]
  },
  {
   "cell_type": "code",
   "execution_count": 40,
   "id": "0ea32009",
   "metadata": {},
   "outputs": [],
   "source": [
    "second_matrix = np.array([[2,3],[2,3],[2,3]])"
   ]
  },
  {
   "cell_type": "code",
   "execution_count": 41,
   "id": "248c8b74",
   "metadata": {},
   "outputs": [
    {
     "data": {
      "text/plain": [
       "array([[2, 3],\n",
       "       [2, 3],\n",
       "       [2, 3]])"
      ]
     },
     "execution_count": 41,
     "metadata": {},
     "output_type": "execute_result"
    }
   ],
   "source": [
    "second_matrix"
   ]
  },
  {
   "cell_type": "code",
   "execution_count": 42,
   "id": "bccbad53",
   "metadata": {},
   "outputs": [
    {
     "data": {
      "text/plain": [
       "(3, 2)"
      ]
     },
     "execution_count": 42,
     "metadata": {},
     "output_type": "execute_result"
    }
   ],
   "source": [
    "second_matrix.shape"
   ]
  },
  {
   "cell_type": "code",
   "execution_count": 43,
   "id": "3870ec18",
   "metadata": {},
   "outputs": [],
   "source": [
    "result_matrix = first_matrix.dot(second_matrix)"
   ]
  },
  {
   "cell_type": "code",
   "execution_count": 44,
   "id": "1cfbf0d9",
   "metadata": {},
   "outputs": [
    {
     "data": {
      "text/plain": [
       "array([[120, 180]])"
      ]
     },
     "execution_count": 44,
     "metadata": {},
     "output_type": "execute_result"
    }
   ],
   "source": [
    "result_matrix"
   ]
  },
  {
   "cell_type": "code",
   "execution_count": 45,
   "id": "2c2cf440",
   "metadata": {},
   "outputs": [
    {
     "data": {
      "text/plain": [
       "(1, 2)"
      ]
     },
     "execution_count": 45,
     "metadata": {},
     "output_type": "execute_result"
    }
   ],
   "source": [
    "result_matrix.shape"
   ]
  },
  {
   "cell_type": "code",
   "execution_count": null,
   "id": "a33f33f9",
   "metadata": {},
   "outputs": [],
   "source": []
  }
 ],
 "metadata": {
  "kernelspec": {
   "display_name": "Python 3 (ipykernel)",
   "language": "python",
   "name": "python3"
  },
  "language_info": {
   "codemirror_mode": {
    "name": "ipython",
    "version": 3
   },
   "file_extension": ".py",
   "mimetype": "text/x-python",
   "name": "python",
   "nbconvert_exporter": "python",
   "pygments_lexer": "ipython3",
   "version": "3.9.12"
  }
 },
 "nbformat": 4,
 "nbformat_minor": 5
}
