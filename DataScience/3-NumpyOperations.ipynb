{
 "cells": [
  {
   "cell_type": "code",
   "execution_count": 1,
   "id": "1c0f1d85",
   "metadata": {},
   "outputs": [],
   "source": [
    "import numpy as np"
   ]
  },
  {
   "cell_type": "code",
   "execution_count": 2,
   "id": "3321696c",
   "metadata": {},
   "outputs": [],
   "source": [
    "new_array = np.random.randint(1,100,20)"
   ]
  },
  {
   "cell_type": "code",
   "execution_count": 3,
   "id": "7dee7a66",
   "metadata": {},
   "outputs": [
    {
     "data": {
      "text/plain": [
       "array([30, 22, 86, 15, 52,  8,  8, 71, 89, 72,  4, 75, 94, 67, 34, 43, 33,\n",
       "       92, 39, 46])"
      ]
     },
     "execution_count": 3,
     "metadata": {},
     "output_type": "execute_result"
    }
   ],
   "source": [
    "new_array"
   ]
  },
  {
   "cell_type": "code",
   "execution_count": 4,
   "id": "ca526803",
   "metadata": {},
   "outputs": [
    {
     "data": {
      "text/plain": [
       "array([ True, False,  True, False,  True, False, False,  True,  True,\n",
       "        True, False,  True,  True,  True,  True,  True,  True,  True,\n",
       "        True,  True])"
      ]
     },
     "execution_count": 4,
     "metadata": {},
     "output_type": "execute_result"
    }
   ],
   "source": [
    "new_array > 25"
   ]
  },
  {
   "cell_type": "code",
   "execution_count": 5,
   "id": "6c0a2e96",
   "metadata": {},
   "outputs": [
    {
     "data": {
      "text/plain": [
       "array([30, 86, 52, 71, 89, 72, 75, 94, 67, 34, 43, 33, 92, 39, 46])"
      ]
     },
     "execution_count": 5,
     "metadata": {},
     "output_type": "execute_result"
    }
   ],
   "source": [
    "new_array[new_array > 25]"
   ]
  },
  {
   "cell_type": "code",
   "execution_count": 6,
   "id": "b36d8f6d",
   "metadata": {},
   "outputs": [
    {
     "data": {
      "text/plain": [
       "array([22, 15,  8,  8,  4])"
      ]
     },
     "execution_count": 6,
     "metadata": {},
     "output_type": "execute_result"
    }
   ],
   "source": [
    "new_array[new_array < 25]"
   ]
  },
  {
   "cell_type": "code",
   "execution_count": 7,
   "id": "140be2b8",
   "metadata": {},
   "outputs": [],
   "source": [
    "# transpose & reshape"
   ]
  },
  {
   "cell_type": "code",
   "execution_count": 8,
   "id": "8dbc43fe",
   "metadata": {},
   "outputs": [],
   "source": [
    "matrix_array = np.array([[10,20],[20,30],[30,40]])"
   ]
  },
  {
   "cell_type": "code",
   "execution_count": 9,
   "id": "efbcd301",
   "metadata": {},
   "outputs": [
    {
     "data": {
      "text/plain": [
       "array([[10, 20],\n",
       "       [20, 30],\n",
       "       [30, 40]])"
      ]
     },
     "execution_count": 9,
     "metadata": {},
     "output_type": "execute_result"
    }
   ],
   "source": [
    "matrix_array"
   ]
  },
  {
   "cell_type": "code",
   "execution_count": 10,
   "id": "66b84922",
   "metadata": {},
   "outputs": [
    {
     "data": {
      "text/plain": [
       "(3, 2)"
      ]
     },
     "execution_count": 10,
     "metadata": {},
     "output_type": "execute_result"
    }
   ],
   "source": [
    "matrix_array.shape"
   ]
  },
  {
   "cell_type": "code",
   "execution_count": 11,
   "id": "a8684e7e",
   "metadata": {},
   "outputs": [
    {
     "data": {
      "text/plain": [
       "array([[10, 20, 30],\n",
       "       [20, 30, 40]])"
      ]
     },
     "execution_count": 11,
     "metadata": {},
     "output_type": "execute_result"
    }
   ],
   "source": [
    "matrix_array.transpose()"
   ]
  },
  {
   "cell_type": "code",
   "execution_count": 12,
   "id": "3fc53a0f",
   "metadata": {},
   "outputs": [
    {
     "data": {
      "text/plain": [
       "array([[10, 20, 30],\n",
       "       [20, 30, 40]])"
      ]
     },
     "execution_count": 12,
     "metadata": {},
     "output_type": "execute_result"
    }
   ],
   "source": [
    "matrix_array.T"
   ]
  },
  {
   "cell_type": "code",
   "execution_count": 13,
   "id": "642872d4",
   "metadata": {},
   "outputs": [],
   "source": [
    "random_array = np.random.random((6,1))"
   ]
  },
  {
   "cell_type": "code",
   "execution_count": 14,
   "id": "578b56f8",
   "metadata": {},
   "outputs": [
    {
     "data": {
      "text/plain": [
       "array([[0.80941836],\n",
       "       [0.07833741],\n",
       "       [0.93315867],\n",
       "       [0.12167883],\n",
       "       [0.16201643],\n",
       "       [0.27716129]])"
      ]
     },
     "execution_count": 14,
     "metadata": {},
     "output_type": "execute_result"
    }
   ],
   "source": [
    "random_array"
   ]
  },
  {
   "cell_type": "code",
   "execution_count": 15,
   "id": "63f50d92",
   "metadata": {},
   "outputs": [
    {
     "data": {
      "text/plain": [
       "(6, 1)"
      ]
     },
     "execution_count": 15,
     "metadata": {},
     "output_type": "execute_result"
    }
   ],
   "source": [
    "random_array.shape"
   ]
  },
  {
   "cell_type": "code",
   "execution_count": 16,
   "id": "97e1e089",
   "metadata": {},
   "outputs": [
    {
     "data": {
      "text/plain": [
       "array([[0.80941836, 0.07833741, 0.93315867],\n",
       "       [0.12167883, 0.16201643, 0.27716129]])"
      ]
     },
     "execution_count": 16,
     "metadata": {},
     "output_type": "execute_result"
    }
   ],
   "source": [
    "random_array.reshape(2,3)"
   ]
  },
  {
   "cell_type": "code",
   "execution_count": 17,
   "id": "240d80b9",
   "metadata": {},
   "outputs": [
    {
     "data": {
      "text/plain": [
       "array([[0.80941836, 0.07833741],\n",
       "       [0.93315867, 0.12167883],\n",
       "       [0.16201643, 0.27716129]])"
      ]
     },
     "execution_count": 17,
     "metadata": {},
     "output_type": "execute_result"
    }
   ],
   "source": [
    "random_array.reshape(3,2)"
   ]
  },
  {
   "cell_type": "code",
   "execution_count": 18,
   "id": "b0e21a80",
   "metadata": {},
   "outputs": [],
   "source": [
    "# z-score"
   ]
  },
  {
   "cell_type": "code",
   "execution_count": 20,
   "id": "7347763f",
   "metadata": {},
   "outputs": [],
   "source": [
    "data = np.array([10,12,13,15,18,25,100,105])"
   ]
  },
  {
   "cell_type": "code",
   "execution_count": 21,
   "id": "18f2ca06",
   "metadata": {},
   "outputs": [],
   "source": [
    "# outlier"
   ]
  },
  {
   "cell_type": "code",
   "execution_count": 22,
   "id": "e12d02af",
   "metadata": {},
   "outputs": [],
   "source": [
    "mean = np.mean(data)"
   ]
  },
  {
   "cell_type": "code",
   "execution_count": 23,
   "id": "76bbf354",
   "metadata": {},
   "outputs": [
    {
     "data": {
      "text/plain": [
       "37.25"
      ]
     },
     "execution_count": 23,
     "metadata": {},
     "output_type": "execute_result"
    }
   ],
   "source": [
    "mean"
   ]
  },
  {
   "cell_type": "code",
   "execution_count": 24,
   "id": "20a5f639",
   "metadata": {},
   "outputs": [
    {
     "data": {
      "text/plain": [
       "37.25"
      ]
     },
     "execution_count": 24,
     "metadata": {},
     "output_type": "execute_result"
    }
   ],
   "source": [
    "data.sum() / len(data)"
   ]
  },
  {
   "cell_type": "code",
   "execution_count": 25,
   "id": "c5f517d3",
   "metadata": {},
   "outputs": [],
   "source": [
    "std = np.std(data)"
   ]
  },
  {
   "cell_type": "code",
   "execution_count": 26,
   "id": "94380d64",
   "metadata": {},
   "outputs": [
    {
     "data": {
      "text/plain": [
       "37.9333296719389"
      ]
     },
     "execution_count": 26,
     "metadata": {},
     "output_type": "execute_result"
    }
   ],
   "source": [
    "std"
   ]
  },
  {
   "cell_type": "code",
   "execution_count": 27,
   "id": "a9c5e7a1",
   "metadata": {},
   "outputs": [],
   "source": [
    "z_scores = (data - mean) / std"
   ]
  },
  {
   "cell_type": "code",
   "execution_count": 28,
   "id": "4b92ee95",
   "metadata": {},
   "outputs": [
    {
     "data": {
      "text/plain": [
       "array([-0.71836562, -0.66564154, -0.6392795 , -0.58655542, -0.50746929,\n",
       "       -0.322935  ,  1.65421809,  1.78602829])"
      ]
     },
     "execution_count": 28,
     "metadata": {},
     "output_type": "execute_result"
    }
   ],
   "source": [
    "z_scores"
   ]
  },
  {
   "cell_type": "code",
   "execution_count": 30,
   "id": "6c4a6031",
   "metadata": {},
   "outputs": [
    {
     "data": {
      "text/plain": [
       "array([100, 105])"
      ]
     },
     "execution_count": 30,
     "metadata": {},
     "output_type": "execute_result"
    }
   ],
   "source": [
    "data[z_scores > 1]"
   ]
  },
  {
   "cell_type": "code",
   "execution_count": 31,
   "id": "0f3ace41",
   "metadata": {},
   "outputs": [],
   "source": [
    "# math equations"
   ]
  },
  {
   "cell_type": "code",
   "execution_count": 32,
   "id": "3ff57b71",
   "metadata": {},
   "outputs": [],
   "source": [
    "# 2x + 3y = 8 and 5x + 7y = 19"
   ]
  },
  {
   "cell_type": "code",
   "execution_count": 33,
   "id": "a515c7ba",
   "metadata": {},
   "outputs": [],
   "source": [
    "#coefficient"
   ]
  },
  {
   "cell_type": "code",
   "execution_count": 34,
   "id": "f4e0076f",
   "metadata": {},
   "outputs": [],
   "source": [
    "A = np.array([[2,3],[5,7]])"
   ]
  },
  {
   "cell_type": "code",
   "execution_count": 35,
   "id": "6f2fac13",
   "metadata": {},
   "outputs": [],
   "source": [
    "#constant"
   ]
  },
  {
   "cell_type": "code",
   "execution_count": 36,
   "id": "5d76b73b",
   "metadata": {},
   "outputs": [],
   "source": [
    "b = np.array([8,19])"
   ]
  },
  {
   "cell_type": "code",
   "execution_count": 37,
   "id": "279347e0",
   "metadata": {},
   "outputs": [],
   "source": [
    "solution = np.linalg.solve(A,b)"
   ]
  },
  {
   "cell_type": "code",
   "execution_count": 38,
   "id": "d468f7bb",
   "metadata": {},
   "outputs": [
    {
     "data": {
      "text/plain": [
       "array([1., 2.])"
      ]
     },
     "execution_count": 38,
     "metadata": {},
     "output_type": "execute_result"
    }
   ],
   "source": [
    "solution"
   ]
  },
  {
   "cell_type": "code",
   "execution_count": null,
   "id": "b104f397",
   "metadata": {},
   "outputs": [],
   "source": []
  }
 ],
 "metadata": {
  "kernelspec": {
   "display_name": "Python 3 (ipykernel)",
   "language": "python",
   "name": "python3"
  },
  "language_info": {
   "codemirror_mode": {
    "name": "ipython",
    "version": 3
   },
   "file_extension": ".py",
   "mimetype": "text/x-python",
   "name": "python",
   "nbconvert_exporter": "python",
   "pygments_lexer": "ipython3",
   "version": "3.9.12"
  }
 },
 "nbformat": 4,
 "nbformat_minor": 5
}
