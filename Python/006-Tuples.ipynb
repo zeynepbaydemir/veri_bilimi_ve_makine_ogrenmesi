{
 "cells": [
  {
   "cell_type": "code",
   "execution_count": 1,
   "id": "e3c36710",
   "metadata": {},
   "outputs": [],
   "source": [
    "myList = [10,\"a\",\"b\",3.14]"
   ]
  },
  {
   "cell_type": "code",
   "execution_count": 2,
   "id": "b1d7bde1",
   "metadata": {},
   "outputs": [
    {
     "data": {
      "text/plain": [
       "10"
      ]
     },
     "execution_count": 2,
     "metadata": {},
     "output_type": "execute_result"
    }
   ],
   "source": [
    "myList[0]"
   ]
  },
  {
   "cell_type": "code",
   "execution_count": 3,
   "id": "a2f00e9f",
   "metadata": {},
   "outputs": [],
   "source": [
    "myList[0] = 100"
   ]
  },
  {
   "cell_type": "code",
   "execution_count": 4,
   "id": "26714116",
   "metadata": {},
   "outputs": [
    {
     "data": {
      "text/plain": [
       "[100, 'a', 'b', 3.14]"
      ]
     },
     "execution_count": 4,
     "metadata": {},
     "output_type": "execute_result"
    }
   ],
   "source": [
    "myList"
   ]
  },
  {
   "cell_type": "code",
   "execution_count": 5,
   "id": "ea607149",
   "metadata": {},
   "outputs": [],
   "source": [
    "#tuple"
   ]
  },
  {
   "cell_type": "code",
   "execution_count": 6,
   "id": "72048d37",
   "metadata": {},
   "outputs": [],
   "source": [
    "myTuple = (10,\"a\",\"b\",3.14)"
   ]
  },
  {
   "cell_type": "code",
   "execution_count": 7,
   "id": "d4a2a4ee",
   "metadata": {},
   "outputs": [
    {
     "data": {
      "text/plain": [
       "tuple"
      ]
     },
     "execution_count": 7,
     "metadata": {},
     "output_type": "execute_result"
    }
   ],
   "source": [
    "type(myTuple)"
   ]
  },
  {
   "cell_type": "code",
   "execution_count": 8,
   "id": "b2267dcc",
   "metadata": {},
   "outputs": [
    {
     "data": {
      "text/plain": [
       "10"
      ]
     },
     "execution_count": 8,
     "metadata": {},
     "output_type": "execute_result"
    }
   ],
   "source": [
    "myTuple[0]"
   ]
  },
  {
   "cell_type": "code",
   "execution_count": 9,
   "id": "43769927",
   "metadata": {},
   "outputs": [
    {
     "data": {
      "text/plain": [
       "(10, 'a', 'b', 3.14)"
      ]
     },
     "execution_count": 9,
     "metadata": {},
     "output_type": "execute_result"
    }
   ],
   "source": [
    "myTuple"
   ]
  },
  {
   "cell_type": "code",
   "execution_count": 10,
   "id": "d48ee531",
   "metadata": {},
   "outputs": [
    {
     "data": {
      "text/plain": [
       "1"
      ]
     },
     "execution_count": 10,
     "metadata": {},
     "output_type": "execute_result"
    }
   ],
   "source": [
    "myTuple.index(\"a\")"
   ]
  },
  {
   "cell_type": "code",
   "execution_count": 11,
   "id": "7d9ba892",
   "metadata": {},
   "outputs": [
    {
     "data": {
      "text/plain": [
       "1"
      ]
     },
     "execution_count": 11,
     "metadata": {},
     "output_type": "execute_result"
    }
   ],
   "source": [
    "myTuple.count(\"a\")"
   ]
  },
  {
   "cell_type": "code",
   "execution_count": 12,
   "id": "998b8643",
   "metadata": {},
   "outputs": [],
   "source": [
    "resultTuple = (10,100,20)"
   ]
  },
  {
   "cell_type": "code",
   "execution_count": 13,
   "id": "91881f77",
   "metadata": {},
   "outputs": [
    {
     "data": {
      "text/plain": [
       "(10, 100, 20)"
      ]
     },
     "execution_count": 13,
     "metadata": {},
     "output_type": "execute_result"
    }
   ],
   "source": [
    "resultTuple"
   ]
  },
  {
   "cell_type": "code",
   "execution_count": 14,
   "id": "d28e8e9f",
   "metadata": {},
   "outputs": [],
   "source": [
    "resultList = list(resultTuple)"
   ]
  },
  {
   "cell_type": "code",
   "execution_count": 15,
   "id": "cf6f8d13",
   "metadata": {},
   "outputs": [
    {
     "data": {
      "text/plain": [
       "[10, 100, 20]"
      ]
     },
     "execution_count": 15,
     "metadata": {},
     "output_type": "execute_result"
    }
   ],
   "source": [
    "resultList"
   ]
  },
  {
   "cell_type": "code",
   "execution_count": null,
   "id": "48cb4273",
   "metadata": {},
   "outputs": [],
   "source": []
  }
 ],
 "metadata": {
  "kernelspec": {
   "display_name": "Python 3 (ipykernel)",
   "language": "python",
   "name": "python3"
  },
  "language_info": {
   "codemirror_mode": {
    "name": "ipython",
    "version": 3
   },
   "file_extension": ".py",
   "mimetype": "text/x-python",
   "name": "python",
   "nbconvert_exporter": "python",
   "pygments_lexer": "ipython3",
   "version": "3.9.12"
  }
 },
 "nbformat": 4,
 "nbformat_minor": 5
}
