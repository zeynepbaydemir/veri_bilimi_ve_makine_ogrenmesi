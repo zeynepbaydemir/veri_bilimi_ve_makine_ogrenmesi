{
 "cells": [
  {
   "cell_type": "code",
   "execution_count": 1,
   "id": "78a4156e",
   "metadata": {},
   "outputs": [],
   "source": [
    "zeynepName = \"Zeynep\""
   ]
  },
  {
   "cell_type": "code",
   "execution_count": 2,
   "id": "1efe5540",
   "metadata": {},
   "outputs": [],
   "source": [
    "zeynepAge = 20"
   ]
  },
  {
   "cell_type": "code",
   "execution_count": 3,
   "id": "108a7b2e",
   "metadata": {},
   "outputs": [],
   "source": [
    "zeynepGender = \"Female\""
   ]
  },
  {
   "cell_type": "code",
   "execution_count": 4,
   "id": "50216c9e",
   "metadata": {},
   "outputs": [],
   "source": [
    "ayseName = \"Ayse\""
   ]
  },
  {
   "cell_type": "code",
   "execution_count": 5,
   "id": "90720f88",
   "metadata": {},
   "outputs": [],
   "source": [
    "ayseAge = 22"
   ]
  },
  {
   "cell_type": "code",
   "execution_count": 6,
   "id": "ad2bd969",
   "metadata": {},
   "outputs": [],
   "source": [
    "ayseGender = \"Female\""
   ]
  },
  {
   "cell_type": "code",
   "execution_count": 7,
   "id": "17ed83c2",
   "metadata": {},
   "outputs": [],
   "source": [
    "class Person():\n",
    "    #property\n",
    "    #name = \"\"\n",
    "    #age = 0\n",
    "    #gender = \"\"\n",
    "    job = \"\"\n",
    "    \n",
    "    \n",
    "    #initializer method, \n",
    "    def __init__(self, name, age, gender):\n",
    "        self.name = name\n",
    "        self.age = age\n",
    "        self.gender = gender\n",
    "        \n",
    "    #method\n",
    "    def printName(self):\n",
    "        print(self.name)"
   ]
  },
  {
   "cell_type": "code",
   "execution_count": 8,
   "id": "4b72781c",
   "metadata": {},
   "outputs": [],
   "source": [
    "zeynep = Person(\"Zeynep\",20,\"Female\")"
   ]
  },
  {
   "cell_type": "code",
   "execution_count": 9,
   "id": "946ce5ee",
   "metadata": {},
   "outputs": [
    {
     "data": {
      "text/plain": [
       "__main__.Person"
      ]
     },
     "execution_count": 9,
     "metadata": {},
     "output_type": "execute_result"
    }
   ],
   "source": [
    "type(zeynep)"
   ]
  },
  {
   "cell_type": "code",
   "execution_count": 10,
   "id": "997eb487",
   "metadata": {},
   "outputs": [
    {
     "data": {
      "text/plain": [
       "'Zeynep'"
      ]
     },
     "execution_count": 10,
     "metadata": {},
     "output_type": "execute_result"
    }
   ],
   "source": [
    "zeynep.name"
   ]
  },
  {
   "cell_type": "code",
   "execution_count": 11,
   "id": "d30812bc",
   "metadata": {},
   "outputs": [
    {
     "data": {
      "text/plain": [
       "20"
      ]
     },
     "execution_count": 11,
     "metadata": {},
     "output_type": "execute_result"
    }
   ],
   "source": [
    "zeynep.age"
   ]
  },
  {
   "cell_type": "code",
   "execution_count": 12,
   "id": "bd7da30a",
   "metadata": {},
   "outputs": [
    {
     "data": {
      "text/plain": [
       "'Female'"
      ]
     },
     "execution_count": 12,
     "metadata": {},
     "output_type": "execute_result"
    }
   ],
   "source": [
    "zeynep.gender"
   ]
  },
  {
   "cell_type": "code",
   "execution_count": 13,
   "id": "0843d7c2",
   "metadata": {},
   "outputs": [
    {
     "name": "stdout",
     "output_type": "stream",
     "text": [
      "Zeynep\n"
     ]
    }
   ],
   "source": [
    "zeynep.printName()"
   ]
  },
  {
   "cell_type": "code",
   "execution_count": 14,
   "id": "1b2b98cb",
   "metadata": {},
   "outputs": [
    {
     "data": {
      "text/plain": [
       "''"
      ]
     },
     "execution_count": 14,
     "metadata": {},
     "output_type": "execute_result"
    }
   ],
   "source": [
    "zeynep.job"
   ]
  },
  {
   "cell_type": "code",
   "execution_count": 15,
   "id": "7fa56b63",
   "metadata": {},
   "outputs": [],
   "source": [
    "zeynep.job = \"developer\""
   ]
  },
  {
   "cell_type": "code",
   "execution_count": 16,
   "id": "babbfd0f",
   "metadata": {},
   "outputs": [
    {
     "data": {
      "text/plain": [
       "'developer'"
      ]
     },
     "execution_count": 16,
     "metadata": {},
     "output_type": "execute_result"
    }
   ],
   "source": [
    "zeynep.job"
   ]
  },
  {
   "cell_type": "code",
   "execution_count": 17,
   "id": "6f2a32cf",
   "metadata": {},
   "outputs": [],
   "source": [
    "class Dog():\n",
    "    \n",
    "    year = 7\n",
    "    \n",
    "    def __init__(self,age=5):\n",
    "        self.age = age\n",
    "        self.dogHumanAge = age * self.year\n",
    "        print(\"dog instance\")\n",
    "        \n",
    "    def humanAge(self):\n",
    "        return self.age * Dog.year #Dog.year -> self.year"
   ]
  },
  {
   "cell_type": "code",
   "execution_count": 18,
   "id": "af37c106",
   "metadata": {},
   "outputs": [
    {
     "name": "stdout",
     "output_type": "stream",
     "text": [
      "dog instance\n"
     ]
    }
   ],
   "source": [
    "myDog = Dog(3)"
   ]
  },
  {
   "cell_type": "code",
   "execution_count": 19,
   "id": "4ab6fb0b",
   "metadata": {},
   "outputs": [
    {
     "data": {
      "text/plain": [
       "3"
      ]
     },
     "execution_count": 19,
     "metadata": {},
     "output_type": "execute_result"
    }
   ],
   "source": [
    "myDog.age"
   ]
  },
  {
   "cell_type": "code",
   "execution_count": 20,
   "id": "abeb3243",
   "metadata": {},
   "outputs": [
    {
     "data": {
      "text/plain": [
       "21"
      ]
     },
     "execution_count": 20,
     "metadata": {},
     "output_type": "execute_result"
    }
   ],
   "source": [
    "myDog.humanAge()"
   ]
  },
  {
   "cell_type": "code",
   "execution_count": 21,
   "id": "c2ab8d94",
   "metadata": {},
   "outputs": [
    {
     "data": {
      "text/plain": [
       "21"
      ]
     },
     "execution_count": 21,
     "metadata": {},
     "output_type": "execute_result"
    }
   ],
   "source": [
    "myDog.dogHumanAge"
   ]
  },
  {
   "cell_type": "code",
   "execution_count": 22,
   "id": "75c6ab27",
   "metadata": {},
   "outputs": [
    {
     "name": "stdout",
     "output_type": "stream",
     "text": [
      "dog instance\n"
     ]
    }
   ],
   "source": [
    "minnos = Dog()"
   ]
  },
  {
   "cell_type": "code",
   "execution_count": 23,
   "id": "47ab84be",
   "metadata": {},
   "outputs": [
    {
     "data": {
      "text/plain": [
       "35"
      ]
     },
     "execution_count": 23,
     "metadata": {},
     "output_type": "execute_result"
    }
   ],
   "source": [
    "minnos.dogHumanAge"
   ]
  },
  {
   "cell_type": "code",
   "execution_count": null,
   "id": "3d548387",
   "metadata": {},
   "outputs": [],
   "source": []
  }
 ],
 "metadata": {
  "kernelspec": {
   "display_name": "Python 3 (ipykernel)",
   "language": "python",
   "name": "python3"
  },
  "language_info": {
   "codemirror_mode": {
    "name": "ipython",
    "version": 3
   },
   "file_extension": ".py",
   "mimetype": "text/x-python",
   "name": "python",
   "nbconvert_exporter": "python",
   "pygments_lexer": "ipython3",
   "version": "3.9.12"
  }
 },
 "nbformat": 4,
 "nbformat_minor": 5
}
