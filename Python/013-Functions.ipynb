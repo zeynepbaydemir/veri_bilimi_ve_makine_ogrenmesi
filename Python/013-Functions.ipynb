{
 "cells": [
  {
   "cell_type": "code",
   "execution_count": 1,
   "id": "f92907f0",
   "metadata": {},
   "outputs": [],
   "source": [
    "# method vs function"
   ]
  },
  {
   "cell_type": "code",
   "execution_count": 2,
   "id": "56021243",
   "metadata": {},
   "outputs": [],
   "source": [
    "my_name = \"zeynep\""
   ]
  },
  {
   "cell_type": "code",
   "execution_count": 3,
   "id": "83f8f8ce",
   "metadata": {},
   "outputs": [
    {
     "data": {
      "text/plain": [
       "'ZEYNEP'"
      ]
     },
     "execution_count": 3,
     "metadata": {},
     "output_type": "execute_result"
    }
   ],
   "source": [
    "my_name.upper()"
   ]
  },
  {
   "cell_type": "code",
   "execution_count": 4,
   "id": "2ac354d5",
   "metadata": {},
   "outputs": [
    {
     "data": {
      "text/plain": [
       "'zeynep'"
      ]
     },
     "execution_count": 4,
     "metadata": {},
     "output_type": "execute_result"
    }
   ],
   "source": [
    "my_name"
   ]
  },
  {
   "cell_type": "code",
   "execution_count": 5,
   "id": "597c1815",
   "metadata": {},
   "outputs": [],
   "source": [
    "my_name_upper = my_name.upper()"
   ]
  },
  {
   "cell_type": "code",
   "execution_count": 6,
   "id": "70d7c7d8",
   "metadata": {},
   "outputs": [
    {
     "data": {
      "text/plain": [
       "'ZEYNEP'"
      ]
     },
     "execution_count": 6,
     "metadata": {},
     "output_type": "execute_result"
    }
   ],
   "source": [
    "my_name_upper"
   ]
  },
  {
   "cell_type": "code",
   "execution_count": 7,
   "id": "b26bf575",
   "metadata": {},
   "outputs": [
    {
     "data": {
      "text/plain": [
       "'zeynep'"
      ]
     },
     "execution_count": 7,
     "metadata": {},
     "output_type": "execute_result"
    }
   ],
   "source": [
    "my_name"
   ]
  },
  {
   "cell_type": "code",
   "execution_count": 8,
   "id": "c879790a",
   "metadata": {},
   "outputs": [
    {
     "name": "stdout",
     "output_type": "stream",
     "text": [
      "Help on built-in function upper:\n",
      "\n",
      "upper() method of builtins.str instance\n",
      "    Return a copy of the string converted to uppercase.\n",
      "\n"
     ]
    }
   ],
   "source": [
    "help(my_name.upper)"
   ]
  },
  {
   "cell_type": "code",
   "execution_count": 9,
   "id": "466754fd",
   "metadata": {},
   "outputs": [],
   "source": [
    "#functions"
   ]
  },
  {
   "cell_type": "code",
   "execution_count": 10,
   "id": "1fa92247",
   "metadata": {},
   "outputs": [],
   "source": [
    "def hello_python():\n",
    "    print(\"hello\")\n",
    "    print(\"python\")"
   ]
  },
  {
   "cell_type": "code",
   "execution_count": 11,
   "id": "edff15a7",
   "metadata": {},
   "outputs": [
    {
     "data": {
      "text/plain": [
       "<function __main__.hello_python()>"
      ]
     },
     "execution_count": 11,
     "metadata": {},
     "output_type": "execute_result"
    }
   ],
   "source": [
    "hello_python"
   ]
  },
  {
   "cell_type": "code",
   "execution_count": 12,
   "id": "5ab2751d",
   "metadata": {},
   "outputs": [
    {
     "name": "stdout",
     "output_type": "stream",
     "text": [
      "hello\n",
      "python\n"
     ]
    }
   ],
   "source": [
    "hello_python()"
   ]
  },
  {
   "cell_type": "code",
   "execution_count": 13,
   "id": "0f9d6883",
   "metadata": {},
   "outputs": [],
   "source": [
    "#input"
   ]
  },
  {
   "cell_type": "code",
   "execution_count": 14,
   "id": "ceea7f32",
   "metadata": {},
   "outputs": [],
   "source": [
    "def hello_name(name):\n",
    "    print(\"hello\")\n",
    "    print(name)"
   ]
  },
  {
   "cell_type": "code",
   "execution_count": 15,
   "id": "e58e51e4",
   "metadata": {},
   "outputs": [
    {
     "name": "stdout",
     "output_type": "stream",
     "text": [
      "hello\n",
      "atil\n"
     ]
    }
   ],
   "source": [
    "hello_name(\"atil\")"
   ]
  },
  {
   "cell_type": "code",
   "execution_count": 16,
   "id": "e2b41153",
   "metadata": {},
   "outputs": [
    {
     "name": "stdout",
     "output_type": "stream",
     "text": [
      "hello\n",
      "python\n"
     ]
    }
   ],
   "source": [
    "hello_name(\"python\")"
   ]
  },
  {
   "cell_type": "code",
   "execution_count": 17,
   "id": "7e868589",
   "metadata": {},
   "outputs": [
    {
     "name": "stdout",
     "output_type": "stream",
     "text": [
      "hello\n",
      "java\n"
     ]
    }
   ],
   "source": [
    "hello_name(\"java\")"
   ]
  },
  {
   "cell_type": "code",
   "execution_count": 18,
   "id": "7a0760f9",
   "metadata": {},
   "outputs": [],
   "source": [
    "def sum_example(num1, num2):\n",
    "    print(num1+num2)"
   ]
  },
  {
   "cell_type": "code",
   "execution_count": 19,
   "id": "90a0fc92",
   "metadata": {},
   "outputs": [
    {
     "name": "stdout",
     "output_type": "stream",
     "text": [
      "15\n"
     ]
    }
   ],
   "source": [
    "sum_example(5,10)"
   ]
  },
  {
   "cell_type": "code",
   "execution_count": 20,
   "id": "1f7a70bb",
   "metadata": {},
   "outputs": [],
   "source": [
    "def sum_example(num1, num2):\n",
    "    num3 = num1 + num2\n",
    "    print(num3)"
   ]
  },
  {
   "cell_type": "code",
   "execution_count": 21,
   "id": "89e02407",
   "metadata": {},
   "outputs": [
    {
     "name": "stdout",
     "output_type": "stream",
     "text": [
      "32\n"
     ]
    }
   ],
   "source": [
    "sum_example(20,12)"
   ]
  },
  {
   "cell_type": "code",
   "execution_count": 22,
   "id": "a932bd6d",
   "metadata": {},
   "outputs": [
    {
     "name": "stdout",
     "output_type": "stream",
     "text": [
      "hello\n",
      "required\n"
     ]
    }
   ],
   "source": [
    "hello_name(\"required\")"
   ]
  },
  {
   "cell_type": "code",
   "execution_count": 23,
   "id": "433e2f1c",
   "metadata": {},
   "outputs": [],
   "source": [
    "def hello_surname(surname=\"baydemir\"):\n",
    "    print(\"hello\")\n",
    "    print(surname)"
   ]
  },
  {
   "cell_type": "code",
   "execution_count": 24,
   "id": "de02527a",
   "metadata": {},
   "outputs": [
    {
     "name": "stdout",
     "output_type": "stream",
     "text": [
      "hello\n",
      "bay\n"
     ]
    }
   ],
   "source": [
    "hello_surname(\"bay\")"
   ]
  },
  {
   "cell_type": "code",
   "execution_count": 25,
   "id": "84e414f8",
   "metadata": {},
   "outputs": [
    {
     "name": "stdout",
     "output_type": "stream",
     "text": [
      "hello\n",
      "baydemir\n"
     ]
    }
   ],
   "source": [
    "hello_surname()"
   ]
  },
  {
   "cell_type": "code",
   "execution_count": 26,
   "id": "ceef8963",
   "metadata": {},
   "outputs": [],
   "source": [
    "#return"
   ]
  },
  {
   "cell_type": "code",
   "execution_count": 27,
   "id": "34bd064a",
   "metadata": {},
   "outputs": [],
   "source": [
    "def summation(num1,num2,num3):\n",
    "    print(num1+num2+num3)"
   ]
  },
  {
   "cell_type": "code",
   "execution_count": 28,
   "id": "1da475bb",
   "metadata": {},
   "outputs": [
    {
     "name": "stdout",
     "output_type": "stream",
     "text": [
      "20\n"
     ]
    }
   ],
   "source": [
    "summation(10,2,8)"
   ]
  },
  {
   "cell_type": "code",
   "execution_count": 29,
   "id": "e9fe598c",
   "metadata": {},
   "outputs": [
    {
     "name": "stdout",
     "output_type": "stream",
     "text": [
      "20\n"
     ]
    }
   ],
   "source": [
    "x = summation(10,2,8)"
   ]
  },
  {
   "cell_type": "code",
   "execution_count": 30,
   "id": "98658b1e",
   "metadata": {},
   "outputs": [],
   "source": [
    "x"
   ]
  },
  {
   "cell_type": "code",
   "execution_count": 31,
   "id": "76e56d66",
   "metadata": {},
   "outputs": [
    {
     "name": "stdout",
     "output_type": "stream",
     "text": [
      "None\n"
     ]
    }
   ],
   "source": [
    "print(x)"
   ]
  },
  {
   "cell_type": "code",
   "execution_count": 32,
   "id": "d06179c5",
   "metadata": {},
   "outputs": [
    {
     "data": {
      "text/plain": [
       "NoneType"
      ]
     },
     "execution_count": 32,
     "metadata": {},
     "output_type": "execute_result"
    }
   ],
   "source": [
    "type(x)"
   ]
  },
  {
   "cell_type": "code",
   "execution_count": 33,
   "id": "6b21d18c",
   "metadata": {},
   "outputs": [],
   "source": [
    "def return_summation(num1,num2,num3):\n",
    "    result = num1+num2+num3\n",
    "    print(result)\n",
    "    return result"
   ]
  },
  {
   "cell_type": "code",
   "execution_count": 34,
   "id": "05faee9c",
   "metadata": {},
   "outputs": [
    {
     "name": "stdout",
     "output_type": "stream",
     "text": [
      "20\n"
     ]
    }
   ],
   "source": [
    "x = return_summation(10,2,8)"
   ]
  },
  {
   "cell_type": "code",
   "execution_count": 35,
   "id": "90b7e769",
   "metadata": {},
   "outputs": [
    {
     "data": {
      "text/plain": [
       "20"
      ]
     },
     "execution_count": 35,
     "metadata": {},
     "output_type": "execute_result"
    }
   ],
   "source": [
    "x"
   ]
  },
  {
   "cell_type": "code",
   "execution_count": 36,
   "id": "cb40ad15",
   "metadata": {},
   "outputs": [],
   "source": [
    "def control_string(s):\n",
    "    if s[0] == \"a\":\n",
    "        print(\"a\")"
   ]
  },
  {
   "cell_type": "code",
   "execution_count": 37,
   "id": "6ae45f91",
   "metadata": {},
   "outputs": [
    {
     "name": "stdout",
     "output_type": "stream",
     "text": [
      "a\n"
     ]
    }
   ],
   "source": [
    "control_string(\"aras\")"
   ]
  },
  {
   "cell_type": "code",
   "execution_count": 38,
   "id": "7e0fbf26",
   "metadata": {},
   "outputs": [
    {
     "name": "stdout",
     "output_type": "stream",
     "text": [
      "a\n"
     ]
    }
   ],
   "source": [
    "control_string(\"ayşe\")"
   ]
  },
  {
   "cell_type": "code",
   "execution_count": 39,
   "id": "5cf5cd2d",
   "metadata": {},
   "outputs": [],
   "source": [
    "control_string(\"zeynep\")"
   ]
  },
  {
   "cell_type": "code",
   "execution_count": 40,
   "id": "55e2db4b",
   "metadata": {},
   "outputs": [],
   "source": [
    "#args, kwargs (arguments, key word arguments)"
   ]
  },
  {
   "cell_type": "code",
   "execution_count": 41,
   "id": "c108fd35",
   "metadata": {},
   "outputs": [],
   "source": [
    "def args_sum(*args):\n",
    "    return sum(args)"
   ]
  },
  {
   "cell_type": "code",
   "execution_count": 42,
   "id": "f11ee349",
   "metadata": {},
   "outputs": [
    {
     "data": {
      "text/plain": [
       "210"
      ]
     },
     "execution_count": 42,
     "metadata": {},
     "output_type": "execute_result"
    }
   ],
   "source": [
    "args_sum(10,20,30,40,50,60)"
   ]
  },
  {
   "cell_type": "code",
   "execution_count": 43,
   "id": "d78b6e82",
   "metadata": {},
   "outputs": [],
   "source": [
    "def args_example(*args):\n",
    "    print(args)"
   ]
  },
  {
   "cell_type": "code",
   "execution_count": 44,
   "id": "645d7d36",
   "metadata": {},
   "outputs": [
    {
     "name": "stdout",
     "output_type": "stream",
     "text": [
      "(123, 1203123, 343, 123, 34)\n"
     ]
    }
   ],
   "source": [
    "args_example(123,1203123,343,123,34)"
   ]
  },
  {
   "cell_type": "code",
   "execution_count": 45,
   "id": "76043726",
   "metadata": {},
   "outputs": [],
   "source": [
    "def kwargs_example(**kwargs):\n",
    "    print(kwargs)"
   ]
  },
  {
   "cell_type": "code",
   "execution_count": 46,
   "id": "274d4c34",
   "metadata": {},
   "outputs": [
    {
     "name": "stdout",
     "output_type": "stream",
     "text": [
      "{'apple': 100, 'banana': 150, 'melon': 200}\n"
     ]
    }
   ],
   "source": [
    "kwargs_example(apple=100,banana=150,melon=200)"
   ]
  },
  {
   "cell_type": "code",
   "execution_count": 47,
   "id": "65bbad01",
   "metadata": {},
   "outputs": [],
   "source": [
    "def kwargs_example_2(**kwargs):\n",
    "    if \"apple\" in kwargs:\n",
    "        print(\"apppleeeee\")\n",
    "    else:\n",
    "        print(\":(\")"
   ]
  },
  {
   "cell_type": "code",
   "execution_count": 48,
   "id": "fbacc453",
   "metadata": {},
   "outputs": [
    {
     "name": "stdout",
     "output_type": "stream",
     "text": [
      "apppleeeee\n"
     ]
    }
   ],
   "source": [
    "kwargs_example_2(apple=10,banana=15)"
   ]
  },
  {
   "cell_type": "code",
   "execution_count": 49,
   "id": "b39ed79e",
   "metadata": {},
   "outputs": [
    {
     "name": "stdout",
     "output_type": "stream",
     "text": [
      ":(\n"
     ]
    }
   ],
   "source": [
    "kwargs_example_2(banana=15)"
   ]
  },
  {
   "cell_type": "code",
   "execution_count": null,
   "id": "2c55c5e3",
   "metadata": {},
   "outputs": [],
   "source": []
  }
 ],
 "metadata": {
  "kernelspec": {
   "display_name": "Python 3 (ipykernel)",
   "language": "python",
   "name": "python3"
  },
  "language_info": {
   "codemirror_mode": {
    "name": "ipython",
    "version": 3
   },
   "file_extension": ".py",
   "mimetype": "text/x-python",
   "name": "python",
   "nbconvert_exporter": "python",
   "pygments_lexer": "ipython3",
   "version": "3.9.12"
  }
 },
 "nbformat": 4,
 "nbformat_minor": 5
}
