{
 "cells": [
  {
   "cell_type": "code",
   "execution_count": 1,
   "id": "e804d9aa",
   "metadata": {},
   "outputs": [],
   "source": [
    "#unique elements, unordered"
   ]
  },
  {
   "cell_type": "code",
   "execution_count": 2,
   "id": "bea1be62",
   "metadata": {},
   "outputs": [],
   "source": [
    "myList = [10,20,30,10,20,40,10,20,40]"
   ]
  },
  {
   "cell_type": "code",
   "execution_count": 3,
   "id": "95a01992",
   "metadata": {},
   "outputs": [
    {
     "data": {
      "text/plain": [
       "9"
      ]
     },
     "execution_count": 3,
     "metadata": {},
     "output_type": "execute_result"
    }
   ],
   "source": [
    "len(myList)"
   ]
  },
  {
   "cell_type": "code",
   "execution_count": 4,
   "id": "a866a94c",
   "metadata": {},
   "outputs": [
    {
     "data": {
      "text/plain": [
       "[10, 20, 30, 10, 20, 40, 10, 20, 40]"
      ]
     },
     "execution_count": 4,
     "metadata": {},
     "output_type": "execute_result"
    }
   ],
   "source": [
    "myList"
   ]
  },
  {
   "cell_type": "code",
   "execution_count": 5,
   "id": "2d0936a4",
   "metadata": {},
   "outputs": [],
   "source": [
    "mySet = set(myList)"
   ]
  },
  {
   "cell_type": "code",
   "execution_count": 6,
   "id": "f6fb80ec",
   "metadata": {},
   "outputs": [
    {
     "data": {
      "text/plain": [
       "{10, 20, 30, 40}"
      ]
     },
     "execution_count": 6,
     "metadata": {},
     "output_type": "execute_result"
    }
   ],
   "source": [
    "mySet"
   ]
  },
  {
   "cell_type": "code",
   "execution_count": 7,
   "id": "02ea9fd1",
   "metadata": {},
   "outputs": [],
   "source": [
    "mySet = {10, 20, 30, 10, 20, 40, 10, 20, 40}"
   ]
  },
  {
   "cell_type": "code",
   "execution_count": 8,
   "id": "0a43b5ee",
   "metadata": {},
   "outputs": [
    {
     "data": {
      "text/plain": [
       "{10, 20, 30, 40}"
      ]
     },
     "execution_count": 8,
     "metadata": {},
     "output_type": "execute_result"
    }
   ],
   "source": [
    "mySet"
   ]
  },
  {
   "cell_type": "code",
   "execution_count": 9,
   "id": "67a0eef0",
   "metadata": {},
   "outputs": [],
   "source": [
    "mySet.add(10)"
   ]
  },
  {
   "cell_type": "code",
   "execution_count": 10,
   "id": "af26320e",
   "metadata": {},
   "outputs": [
    {
     "data": {
      "text/plain": [
       "{10, 20, 30, 40}"
      ]
     },
     "execution_count": 10,
     "metadata": {},
     "output_type": "execute_result"
    }
   ],
   "source": [
    "mySet"
   ]
  },
  {
   "cell_type": "code",
   "execution_count": 11,
   "id": "8a0751cd",
   "metadata": {},
   "outputs": [],
   "source": [
    "mySet.add(50)"
   ]
  },
  {
   "cell_type": "code",
   "execution_count": 12,
   "id": "6c05f623",
   "metadata": {},
   "outputs": [
    {
     "data": {
      "text/plain": [
       "{10, 20, 30, 40, 50}"
      ]
     },
     "execution_count": 12,
     "metadata": {},
     "output_type": "execute_result"
    }
   ],
   "source": [
    "mySet"
   ]
  },
  {
   "cell_type": "code",
   "execution_count": 13,
   "id": "e3872916",
   "metadata": {},
   "outputs": [],
   "source": [
    "mySet2 = {30,40,50,60,70}"
   ]
  },
  {
   "cell_type": "code",
   "execution_count": 14,
   "id": "373cc340",
   "metadata": {},
   "outputs": [
    {
     "data": {
      "text/plain": [
       "{10, 20, 30, 40, 50}"
      ]
     },
     "execution_count": 14,
     "metadata": {},
     "output_type": "execute_result"
    }
   ],
   "source": [
    "mySet"
   ]
  },
  {
   "cell_type": "code",
   "execution_count": 15,
   "id": "8f50e36a",
   "metadata": {},
   "outputs": [
    {
     "data": {
      "text/plain": [
       "{30, 40, 50, 60, 70}"
      ]
     },
     "execution_count": 15,
     "metadata": {},
     "output_type": "execute_result"
    }
   ],
   "source": [
    "mySet2"
   ]
  },
  {
   "cell_type": "code",
   "execution_count": 16,
   "id": "3ba9037a",
   "metadata": {},
   "outputs": [
    {
     "data": {
      "text/plain": [
       "{10, 20, 30, 40, 50, 60, 70}"
      ]
     },
     "execution_count": 16,
     "metadata": {},
     "output_type": "execute_result"
    }
   ],
   "source": [
    "mySet.union(mySet2)"
   ]
  },
  {
   "cell_type": "code",
   "execution_count": 17,
   "id": "5bee4e41",
   "metadata": {},
   "outputs": [
    {
     "data": {
      "text/plain": [
       "{30, 40, 50}"
      ]
     },
     "execution_count": 17,
     "metadata": {},
     "output_type": "execute_result"
    }
   ],
   "source": [
    "mySet.intersection(mySet2) #küme"
   ]
  },
  {
   "cell_type": "code",
   "execution_count": 18,
   "id": "0672443a",
   "metadata": {},
   "outputs": [],
   "source": [
    "countryList = [\"de\",\"fr\",\"tr\",\"fr\",\"tr\",\"tr\",\"de\",\"nl\",\"de\",\"tr\"]"
   ]
  },
  {
   "cell_type": "code",
   "execution_count": 19,
   "id": "862b8044",
   "metadata": {},
   "outputs": [
    {
     "data": {
      "text/plain": [
       "10"
      ]
     },
     "execution_count": 19,
     "metadata": {},
     "output_type": "execute_result"
    }
   ],
   "source": [
    "len(countryList)"
   ]
  },
  {
   "cell_type": "code",
   "execution_count": 20,
   "id": "6b65d674",
   "metadata": {},
   "outputs": [
    {
     "data": {
      "text/plain": [
       "4"
      ]
     },
     "execution_count": 20,
     "metadata": {},
     "output_type": "execute_result"
    }
   ],
   "source": [
    "len(set(countryList))"
   ]
  },
  {
   "cell_type": "code",
   "execution_count": 21,
   "id": "4428143e",
   "metadata": {},
   "outputs": [],
   "source": [
    "emptyList = []"
   ]
  },
  {
   "cell_type": "code",
   "execution_count": 22,
   "id": "78232dad",
   "metadata": {},
   "outputs": [],
   "source": [
    "emptyList.append(10)\n",
    "emptyList.append(20)\n",
    "emptyList.append(30)"
   ]
  },
  {
   "cell_type": "code",
   "execution_count": 23,
   "id": "6803a8f2",
   "metadata": {},
   "outputs": [
    {
     "data": {
      "text/plain": [
       "[10, 20, 30]"
      ]
     },
     "execution_count": 23,
     "metadata": {},
     "output_type": "execute_result"
    }
   ],
   "source": [
    "emptyList"
   ]
  },
  {
   "cell_type": "code",
   "execution_count": 24,
   "id": "51eb3da3",
   "metadata": {},
   "outputs": [],
   "source": [
    "emptySet = {}"
   ]
  },
  {
   "cell_type": "code",
   "execution_count": 25,
   "id": "24ef64f0",
   "metadata": {},
   "outputs": [
    {
     "data": {
      "text/plain": [
       "dict"
      ]
     },
     "execution_count": 25,
     "metadata": {},
     "output_type": "execute_result"
    }
   ],
   "source": [
    "type(emptySet)"
   ]
  },
  {
   "cell_type": "code",
   "execution_count": 26,
   "id": "e8d69eeb",
   "metadata": {},
   "outputs": [],
   "source": [
    "emptySet = set()"
   ]
  },
  {
   "cell_type": "code",
   "execution_count": 27,
   "id": "e0166a90",
   "metadata": {},
   "outputs": [
    {
     "data": {
      "text/plain": [
       "set"
      ]
     },
     "execution_count": 27,
     "metadata": {},
     "output_type": "execute_result"
    }
   ],
   "source": [
    "type(emptySet)"
   ]
  },
  {
   "cell_type": "code",
   "execution_count": 28,
   "id": "6864dad5",
   "metadata": {},
   "outputs": [
    {
     "data": {
      "text/plain": [
       "0"
      ]
     },
     "execution_count": 28,
     "metadata": {},
     "output_type": "execute_result"
    }
   ],
   "source": [
    "len(emptySet)"
   ]
  },
  {
   "cell_type": "code",
   "execution_count": 29,
   "id": "979468ce",
   "metadata": {},
   "outputs": [],
   "source": [
    "emptySet.add(10)\n",
    "emptySet.add(10)\n",
    "emptySet.add(10)\n",
    "emptySet.add(20)\n",
    "emptySet.add(30)"
   ]
  },
  {
   "cell_type": "code",
   "execution_count": 30,
   "id": "fd18bc77",
   "metadata": {},
   "outputs": [
    {
     "data": {
      "text/plain": [
       "{10, 20, 30}"
      ]
     },
     "execution_count": 30,
     "metadata": {},
     "output_type": "execute_result"
    }
   ],
   "source": [
    "emptySet"
   ]
  },
  {
   "cell_type": "code",
   "execution_count": 31,
   "id": "a7459ef2",
   "metadata": {},
   "outputs": [],
   "source": [
    "#list için:\n",
    "emptyList = list()"
   ]
  },
  {
   "cell_type": "code",
   "execution_count": 32,
   "id": "dbe28365",
   "metadata": {},
   "outputs": [],
   "source": [
    "emptyList.append(10)\n",
    "emptyList.append(20)\n",
    "emptyList.append(30)"
   ]
  },
  {
   "cell_type": "code",
   "execution_count": 33,
   "id": "fca1563e",
   "metadata": {},
   "outputs": [
    {
     "data": {
      "text/plain": [
       "[10, 20, 30]"
      ]
     },
     "execution_count": 33,
     "metadata": {},
     "output_type": "execute_result"
    }
   ],
   "source": [
    "emptyList"
   ]
  },
  {
   "cell_type": "code",
   "execution_count": 34,
   "id": "b51a7804",
   "metadata": {},
   "outputs": [],
   "source": [
    "emptyDictionary = dict()"
   ]
  },
  {
   "cell_type": "code",
   "execution_count": 35,
   "id": "c8a56690",
   "metadata": {},
   "outputs": [],
   "source": [
    "emptyDictionary[\"a\"] = 10\n",
    "emptyDictionary[\"b\"] = 20"
   ]
  },
  {
   "cell_type": "code",
   "execution_count": 36,
   "id": "902579bc",
   "metadata": {},
   "outputs": [
    {
     "data": {
      "text/plain": [
       "{'a': 10, 'b': 20}"
      ]
     },
     "execution_count": 36,
     "metadata": {},
     "output_type": "execute_result"
    }
   ],
   "source": [
    "emptyDictionary"
   ]
  },
  {
   "cell_type": "code",
   "execution_count": null,
   "id": "8caf0e7a",
   "metadata": {},
   "outputs": [],
   "source": []
  }
 ],
 "metadata": {
  "kernelspec": {
   "display_name": "Python 3 (ipykernel)",
   "language": "python",
   "name": "python3"
  },
  "language_info": {
   "codemirror_mode": {
    "name": "ipython",
    "version": 3
   },
   "file_extension": ".py",
   "mimetype": "text/x-python",
   "name": "python",
   "nbconvert_exporter": "python",
   "pygments_lexer": "ipython3",
   "version": "3.9.12"
  }
 },
 "nbformat": 4,
 "nbformat_minor": 5
}
