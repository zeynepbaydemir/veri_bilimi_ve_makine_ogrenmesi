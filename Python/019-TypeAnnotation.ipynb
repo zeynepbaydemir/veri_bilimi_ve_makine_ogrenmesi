{
 "cells": [
  {
   "cell_type": "code",
   "execution_count": 1,
   "id": "18e9be12",
   "metadata": {},
   "outputs": [],
   "source": [
    "name : str = \"Zeynep\"\n",
    "age : int = 30\n",
    "is_student : bool = False"
   ]
  },
  {
   "cell_type": "code",
   "execution_count": 2,
   "id": "78dd8b66",
   "metadata": {},
   "outputs": [],
   "source": [
    "def add_numbers(a: int, b: int) -> int:\n",
    "    return a + b"
   ]
  },
  {
   "cell_type": "code",
   "execution_count": 3,
   "id": "69e987a6",
   "metadata": {},
   "outputs": [
    {
     "data": {
      "text/plain": [
       "9"
      ]
     },
     "execution_count": 3,
     "metadata": {},
     "output_type": "execute_result"
    }
   ],
   "source": [
    "add_numbers(4,5)"
   ]
  },
  {
   "cell_type": "code",
   "execution_count": 4,
   "id": "ef8c2f77",
   "metadata": {},
   "outputs": [],
   "source": [
    "#python 3.10 kullanmadığım için aşağıdaki şekilde kodladım\n",
    "from typing import Union\n",
    "\n",
    "def process_value(value: Union[int, str]) -> str:\n",
    "    if isinstance(value, int):\n",
    "        return f\"processed integer: {value}\"\n",
    "    else:\n",
    "        return f\"processed string: {value}\"\n"
   ]
  },
  {
   "cell_type": "code",
   "execution_count": 5,
   "id": "2fb92f18",
   "metadata": {},
   "outputs": [
    {
     "data": {
      "text/plain": [
       "'processed integer: 50'"
      ]
     },
     "execution_count": 5,
     "metadata": {},
     "output_type": "execute_result"
    }
   ],
   "source": [
    "process_value(50)"
   ]
  },
  {
   "cell_type": "code",
   "execution_count": 6,
   "id": "d8f104ae",
   "metadata": {},
   "outputs": [
    {
     "data": {
      "text/plain": [
       "'processed string: dffvsdfv'"
      ]
     },
     "execution_count": 6,
     "metadata": {},
     "output_type": "execute_result"
    }
   ],
   "source": [
    "process_value(\"dffvsdfv\")"
   ]
  },
  {
   "cell_type": "code",
   "execution_count": 7,
   "id": "07ee08df",
   "metadata": {},
   "outputs": [
    {
     "data": {
      "text/plain": [
       "'processed string: [10, 20, 30]'"
      ]
     },
     "execution_count": 7,
     "metadata": {},
     "output_type": "execute_result"
    }
   ],
   "source": [
    "process_value([10,20,30])"
   ]
  },
  {
   "cell_type": "code",
   "execution_count": 8,
   "id": "5ee8ff02",
   "metadata": {},
   "outputs": [],
   "source": [
    "#python 3.9\n",
    "from typing import List\n",
    "\n",
    "def sum_list(numbers: List[int]) -> int:\n",
    "    return sum(numbers)"
   ]
  },
  {
   "cell_type": "code",
   "execution_count": 9,
   "id": "e6afb0d7",
   "metadata": {},
   "outputs": [],
   "source": [
    "numbers = [1,2,3,4]\n",
    "total = sum_list(numbers)"
   ]
  },
  {
   "cell_type": "code",
   "execution_count": 10,
   "id": "b99248c7",
   "metadata": {},
   "outputs": [
    {
     "data": {
      "text/plain": [
       "10"
      ]
     },
     "execution_count": 10,
     "metadata": {},
     "output_type": "execute_result"
    }
   ],
   "source": [
    "total"
   ]
  },
  {
   "cell_type": "code",
   "execution_count": null,
   "id": "34a6c414",
   "metadata": {},
   "outputs": [],
   "source": []
  }
 ],
 "metadata": {
  "kernelspec": {
   "display_name": "Python 3 (ipykernel)",
   "language": "python",
   "name": "python3"
  },
  "language_info": {
   "codemirror_mode": {
    "name": "ipython",
    "version": 3
   },
   "file_extension": ".py",
   "mimetype": "text/x-python",
   "name": "python",
   "nbconvert_exporter": "python",
   "pygments_lexer": "ipython3",
   "version": "3.9.12"
  }
 },
 "nbformat": 4,
 "nbformat_minor": 5
}
